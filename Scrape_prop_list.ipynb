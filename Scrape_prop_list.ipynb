{
 "cells": [
  {
   "cell_type": "code",
   "execution_count": 12,
   "metadata": {},
   "outputs": [],
   "source": [
    "import requests\n",
    "import pandas as pd\n",
    "import json\n",
    "\n",
    "#Create a new session\n",
    "session = requests.Session()\n",
    "\n",
    "#Create a cookie jar\n",
    "jar = requests.cookies.RequestsCookieJar()\n",
    "jar.set('access_token', \"MTE1MTQ2|cf9d0a4490494fb18733704e4f2627bc\")\n",
    "\n",
    "#grab the Json file from the API\n",
    "r = session.get(\"https://api.airdna.co/v1/market/property_list?access_token=MTE1MTQ2|cf9d0a4490494fb18733704e4f2627bc&city_id=56218&start_month=5&start_year=2016&number_of_months=36&currency=native&show_regions=true\")\n",
    "data = r.json()\n",
    "\n",
    "#write our data to a JSON file\n",
    "json.dump(data, open(\"out.json\",\"w\"))\n",
    "\n",
    "\n"
   ]
  },
  {
   "cell_type": "code",
   "execution_count": null,
   "metadata": {},
   "outputs": [],
   "source": []
  },
  {
   "cell_type": "code",
   "execution_count": null,
   "metadata": {},
   "outputs": [],
   "source": []
  }
 ],
 "metadata": {
  "kernelspec": {
   "display_name": "Python [default]",
   "language": "python",
   "name": "python3"
  },
  "language_info": {
   "codemirror_mode": {
    "name": "ipython",
    "version": 3
   },
   "file_extension": ".py",
   "mimetype": "text/x-python",
   "name": "python",
   "nbconvert_exporter": "python",
   "pygments_lexer": "ipython3",
   "version": "3.6.5"
  }
 },
 "nbformat": 4,
 "nbformat_minor": 2
}
