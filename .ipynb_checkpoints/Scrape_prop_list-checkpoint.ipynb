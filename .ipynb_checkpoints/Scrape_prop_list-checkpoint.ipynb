{
 "cells": [
  {
   "cell_type": "code",
   "execution_count": 2,
   "metadata": {},
   "outputs": [],
   "source": [
    "#Import all necessary packages\n",
    "import requests\n",
    "import pandas as pd\n",
    "import json\n",
    "import bs4\n",
    "import re"
   ]
  },
  {
   "cell_type": "code",
   "execution_count": 3,
   "metadata": {},
   "outputs": [
    {
     "name": "stdout",
     "output_type": "stream",
     "text": [
      "{'error': {'message': 'Authorization token is invalid', 'type': 'invalid_credentials'}}\n"
     ]
    }
   ],
   "source": [
    "#Create a new session\n",
    "session = requests.Session()\n",
    "\n",
    "#Create a cookie jar\n",
    "jar = requests.cookies.RequestsCookieJar()\n",
    "jar.set('access_token', \"Your Access Token Here\")\n",
    "\n",
    "#grab the Json file from the API\n",
    "r = session.get(\"https://api.airdna.co/v1/market/property_list?access_token=MTE1MTQ2|cf9d0a4490494fb18733704e4f2627bc&city_id=56218&start_month=5&start_year=2016&number_of_months=36&currency=native&show_regions=true\")\n",
    "data = r.json()\n",
    "print(data)\n",
    "\n",
    "##write our data to a JSON file\n",
    "#json.dump(data, open(\"out.json\",\"w\"))\n",
    "\n"
   ]
  },
  {
   "cell_type": "markdown",
   "metadata": {},
   "source": [
    "Now that we have our properties information I will now create a table that scrape reviews from all airbnb hosts"
   ]
  },
  {
   "cell_type": "code",
   "execution_count": 34,
   "metadata": {},
   "outputs": [],
   "source": [
    "r = requests.get(\"https://www.airbnb.ca/rooms/22574937?guests=1&adults=1&sl_alternate_dates_exclusion=true&source_impression_id=p3_1559371129_pqe5ON2MT6ozPqfr\")\n",
    "\n",
    "exampleSoup = bs4.BeautifulSoup(r.text, 'html.parser')\n",
    "\n",
    "reviews = exampleSoup.find_all('div', {'data-review-id':\"*\"})\n",
    "\n",
    "for i in range(len(reviews)):\n",
    "    print(reviews[i])\n",
    "\n",
    "\n"
   ]
  },
  {
   "cell_type": "code",
   "execution_count": 44,
   "metadata": {},
   "outputs": [],
   "source": [
    "# Navigate to the airbnb page searching for all listings with 2 bed and 1 bathroom\n",
    "#r = requests.get(\"https://www.airbnb.ca/s/Surrey--BC/homes?refinement_paths%5B%5D=%2Fhomes&room_types%5B%5D=Entire%20home%2Fapt&min_bathrooms=1&min_bedrooms=2&query=Surrey%2C%20BC&search_type=UNKNOWN&allow_override%5B%5D=&zoom=11&search_by_map=true&sw_lat=49.05483546437135&sw_lng=-123.23564578102378&ne_lat=49.16311184787787&ne_lng=-122.36055421897618&place_id=ChIJW6c_TQPchVQR4JjVq5hIi9I&s_tag=e6GMDU3m\")\n",
    "#r = requests.get(\"https://www.airbnb.ca/api/v2/explore_tabs?_format=for_explore_search_web&_intents=p1&auto_ib=true&client_session_id=e1d6dea1-e0d3-46d0-af64-f3d918a33a36&currency=CAD&experiences_per_grid=20&fetch_filters=true&guidebooks_per_grid=20&has_zero_guest_treatment=true&is_guided_search=true&is_new_cards_experiment=true&is_standard_search=true&items_per_grid=18&key=d306zoyjsyarp7ifhu67rjxn52tv0t20&locale=en-CA&luxury_pre_launch=false&metadata_only=false&place_id=ChIJW6c_TQPchVQR4JjVq5hIi9I&query=Surrey%2C%20Canada&query_understanding_enabled=true&refinement_paths%5B%5D=%2Ffor_you&room_types%5B%5D=Entire%20home%2Fapt&satori_version=1.1.9&screen_height=520&screen_size=large&screen_width=2133&selected_tab_id=all_tab&show_groupings=true&supports_for_you_v3=true&timezone_offset=-420&version=1.5.6\")\n",
    "r = requests.get(\"https://www.airbnb.com/rooms/review_page/25189211?page=1&role=guest\")\n",
    "exampleSoup = bs4.BeautifulSoup(r.text, 'html.parser')\n",
    "\n",
    "#https://www.airbnb.ca/rooms/101811124?page=1&role=guest\n",
    "\n",
    "\n",
    "#listings = exampleSoup.find_all('div', {'data-review-id':re.compile(r\".*\")})\n",
    "#listings = exampleSoup.find_all('a', href=True)\n",
    "reviews = exampleSoup.find_all('p')\n",
    "\n",
    "for i in reviews:\n",
    "    print(i)\n",
    "\n",
    "\n",
    "#print(exampleSoup.text)\n"
   ]
  },
  {
   "cell_type": "code",
   "execution_count": 21,
   "metadata": {},
   "outputs": [
    {
     "name": "stdout",
     "output_type": "stream",
     "text": [
      "['\"id\":370208422', '\"id\":452737301', '\"id\":370208478', '\"id\":26965435', '\"id\":624813628', '\"id\":1249914', '\"id\":25028899', '\"id\":722947243', '\"id\":40558617', '\"id\":25126237', '\"id\":711030317', '\"id\":40558617', '\"id\":21030220', '\"id\":731807094', '\"id\":96696892', '\"id\":27955429', '\"id\":621058118', '\"id\":2189739', '\"id\":994900', '\"id\":730099815', '\"id\":5464331', '\"id\":2570965', '\"id\":638476120', '\"id\":19916', '\"id\":25189211', '\"id\":630358650', '\"id\":14513930', '\"id\":26723186', '\"id\":654088319', '\"id\":200954913', '\"id\":23340054', '\"id\":670843236', '\"id\":24203518', '\"id\":11478225', '\"id\":126246373', '\"id\":60403732', '\"id\":21385985', '\"id\":398343808', '\"id\":154907177', '\"id\":632797', '\"id\":5839061', '\"id\":615221', '\"id\":19318783', '\"id\":482448231', '\"id\":104284914', '\"id\":2026837', '\"id\":17873109', '\"id\":10411408', '\"id\":21825801', '\"id\":411199996', '\"id\":154907177', '\"id\":33913968', '\"id\":728472599', '\"id\":3528617', '\"id\":30128843', '\"id\":624199007', '\"id\":226390842', '\"id\":12710290', '\"id\":151902430', '\"id\":13166814', '\"id\":25496560', '\"id\":506242908', '\"id\":192422365', '\"id\":143817', '\"id\":545131142', '\"id\":545131073', '\"id\":29172013', '\"id\":294926', '\"id\":557423131', '\"id\":557423131', '\"id\":96573568', '\"id\":105022', '\"id\":590922972', '\"id\":590922972', '\"id\":3533159', '\"id\":174752', '\"id\":444412312', '\"id\":444412199', '\"id\":152122147', '\"id\":765102', '\"id\":728662172', '\"id\":728659894', '\"id\":100123931', '\"id\":202378', '\"id\":469005883', '\"id\":469005916', '\"id\":178261347', '\"id\":847597', '\"id\":754146522', '\"id\":754146258', '\"id\":11465949', '\"id\":230538', '\"id\":660956609', '\"id\":660956609', '\"id\":34153525', '\"id\":650254', '\"id\":704570258', '\"id\":704570117', '\"id\":8615979', '\"id\":347567', '\"id\":571911974', '\"id\":571911958', '\"id\":135557735', '\"id\":755486551', '\"id\":755490114', '\"id\":755499253', '\"id\":755504495', '\"id\":18025001', '\"id\":297930081', '\"id\":123967189', '\"id\":28138930', '\"id\":578456657', '\"id\":158083648', '\"id\":11210688', '\"id\":510490494', '\"id\":58387769', '\"id\":32228274', '\"id\":676533559', '\"id\":103926448', '\"id\":23688691', '\"id\":628242431', '\"id\":177438326', '\"id\":17642684', '\"id\":289757055', '\"id\":120016058', '\"id\":1200751', '\"id\":11857708', '\"id\":6557709', '\"id\":15847171', '\"id\":231109054', '\"id\":88409809', '\"id\":0', '\"id\":0', '\"id\":0', '\"id\":0', '\"id\":0', '\"id\":0', '\"id\":0', '\"id\":0', '\"id\":0', '\"id\":0', '\"id\":159486', '\"id\":0', '\"id\":0', '\"id\":0', '\"id\":0', '\"id\":0', '\"id\":0', '\"id\":0', '\"id\":0', '\"id\":0', '\"id\":0', '\"id\":574011', '\"id\":0', '\"id\":0', '\"id\":0', '\"id\":0', '\"id\":0', '\"id\":0', '\"id\":0', '\"id\":0', '\"id\":0', '\"id\":0', '\"id\":1879011', '\"id\":0', '\"id\":0', '\"id\":0', '\"id\":0', '\"id\":0', '\"id\":0', '\"id\":0', '\"id\":0', '\"id\":0', '\"id\":0', '\"id\":159459', '\"id\":0', '\"id\":0', '\"id\":0', '\"id\":0', '\"id\":0', '\"id\":0', '\"id\":0', '\"id\":0', '\"id\":0', '\"id\":0', '\"id\":1040691', '\"id\":0', '\"id\":0', '\"id\":0', '\"id\":0', '\"id\":0', '\"id\":0', '\"id\":0', '\"id\":0', '\"id\":0', '\"id\":0', '\"id\":927519', '\"id\":0', '\"id\":0', '\"id\":0', '\"id\":0', '\"id\":0', '\"id\":0', '\"id\":0', '\"id\":0', '\"id\":0', '\"id\":0', '\"id\":200128', '\"id\":0', '\"id\":0', '\"id\":0', '\"id\":0', '\"id\":0', '\"id\":0', '\"id\":0', '\"id\":0', '\"id\":0', '\"id\":0', '\"id\":461416', '\"id\":0', '\"id\":0', '\"id\":0', '\"id\":0', '\"id\":0', '\"id\":0', '\"id\":0', '\"id\":0', '\"id\":0', '\"id\":0', '\"id\":541377', '\"id\":0', '\"id\":0', '\"id\":0', '\"id\":0', '\"id\":0', '\"id\":0', '\"id\":0', '\"id\":0', '\"id\":0', '\"id\":0', '\"id\":2102294', '\"id\":500691906', '\"id\":500691636']\n"
     ]
    }
   ],
   "source": [
    "homes = re.findall(r'\"id\":\\d+', exampleSoup.text)\n",
    "print(homes)"
   ]
  },
  {
   "cell_type": "code",
   "execution_count": null,
   "metadata": {
    "collapsed": true
   },
   "outputs": [],
   "source": [
    "for i in listings:\n",
    "    print(i)"
   ]
  }
 ],
 "metadata": {
  "kernelspec": {
   "display_name": "Python 3",
   "language": "python",
   "name": "python3"
  },
  "language_info": {
   "codemirror_mode": {
    "name": "ipython",
    "version": 3
   },
   "file_extension": ".py",
   "mimetype": "text/x-python",
   "name": "python",
   "nbconvert_exporter": "python",
   "pygments_lexer": "ipython3",
   "version": "3.7.3"
  }
 },
 "nbformat": 4,
 "nbformat_minor": 2
}
